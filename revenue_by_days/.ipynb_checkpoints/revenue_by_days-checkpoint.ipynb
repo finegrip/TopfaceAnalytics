{
 "cells": [
  {
   "cell_type": "code",
   "execution_count": 63,
   "metadata": {},
   "outputs": [],
   "source": [
    "import pandas as pd\n",
    "import numpy as np\n",
    "from datetime import datetime\n",
    "from datetime import timedelta\n",
    "from matplotlib import pyplot as plt\n",
    "\n",
    "from pylab import rcParams\n",
    "rcParams['figure.figsize'] = 25, 16\n",
    "rcParams['legend.fontsize'] = 15\n",
    "rcParams['axes.titlesize'] = 100\n",
    "rcParams['axes.labelsize'] = 25"
   ]
  },
  {
   "cell_type": "code",
   "execution_count": 2,
   "metadata": {},
   "outputs": [],
   "source": [
    "df_payments_notref_android = pd.read_csv('data/180321_notref_android.csv')\n",
    "df_payments_ref_android = pd.read_csv('data/180321_ref_android.csv')\n",
    "df_payments_notref_ios= pd.read_csv('data/180321_notref_ios.csv')\n",
    "df_payments_ref_ios = pd.read_csv('data/180321_ref_ios.csv')"
   ]
  },
  {
   "cell_type": "code",
   "execution_count": 3,
   "metadata": {},
   "outputs": [],
   "source": [
    "df_payments_notref_android['ref'] = 'notref'\n",
    "df_payments_ref_android['ref'] = 'ref'\n",
    "df_payments_notref_ios['ref'] = 'notref'\n",
    "df_payments_ref_ios['ref'] = 'ref'\n",
    "\n",
    "df_payments_notref_android['app'] = 'android'\n",
    "df_payments_ref_android['app'] = 'android'\n",
    "df_payments_notref_ios['app'] = 'ios'\n",
    "df_payments_ref_ios['app'] = 'ios'\n",
    "\n",
    "df_payments = df_payments_notref_android.append(df_payments_ref_android).append(df_payments_notref_ios).append(df_payments_ref_ios)"
   ]
  },
  {
   "cell_type": "code",
   "execution_count": 4,
   "metadata": {},
   "outputs": [],
   "source": [
    "# https://portraits.core.tf/goto/997bac2ac0c91bc01385cfc197c8e4c7\n",
    "df_installs_all = pd.read_csv('data/180321_installs.csv', thousands=',')\n",
    "df_installs_all.columns = ['created per day','ref','app','users']\n",
    "df_installs_all['created per day'] = df_installs_all['created per day'].map(lambda x: x[:10])\n",
    "dict_app = {'first_app:topfacemobappandroid': 'android','first_app:topfacemobappios':'ios'}\n",
    "dict_ref = {'referral:0': 'notref','referral:1':'ref'}\n",
    "df_installs_all['app'] = df_installs_all['app'].map(dict_app)\n",
    "df_installs_all['ref'] = df_installs_all['ref'].map(dict_ref)"
   ]
  },
  {
   "cell_type": "code",
   "execution_count": 5,
   "metadata": {},
   "outputs": [],
   "source": [
    "df_payments['days from reg'] = df_payments['payment date'].map(lambda x: datetime.strptime(x[:10], \"%Y-%m-%d\")) - df_payments['registration date'].map(lambda x: datetime.strptime(x[:10], \"%Y-%m-%d\"))\n",
    "df_payments['days from reg'] = df_payments['days from reg'].map(lambda x: x.days)\n",
    "df_payments['weeks from reg'] = df_payments['days from reg'].map(lambda x: int(x / 7))\n",
    "df_payments['registration day'] = df_payments['registration date'].map(lambda x: x[:10])\n",
    "df_payments['payment day'] = df_payments['registration date'].map(lambda x: x[:10])\n",
    "df_payments = df_payments[df_payments['days from reg'] <= 21]\n",
    "\n",
    "df_installs_all['created week'] = df_installs_all['created per day'].map(lambda x: datetime.strptime(\"2017-12-07\", \"%Y-%m-%d\") + timedelta(days = int((datetime.strptime(x, \"%Y-%m-%d\") - datetime.strptime(\"2017-12-07\", \"%Y-%m-%d\")).days / 7)*7) )\n",
    "df_payments['registration week'] = df_payments['registration day'].map(lambda x: datetime.strptime(\"2017-12-07\", \"%Y-%m-%d\") + timedelta(days = int((datetime.strptime(x, \"%Y-%m-%d\") - datetime.strptime(\"2017-12-07\", \"%Y-%m-%d\")).days / 7)*7) )"
   ]
  },
  {
   "cell_type": "code",
   "execution_count": 6,
   "metadata": {},
   "outputs": [],
   "source": [
    "df_installs_all = df_installs_all[df_installs_all['created per day'] < '2018-03-01']\n",
    "df_payments = df_payments[df_payments['registration date'] < '2018-03-01']\n",
    "\n",
    "df_installs_all = df_installs_all[df_installs_all['created per day'] >= '2017-12-07']\n",
    "df_payments = df_payments[df_payments['registration date'] >= '2017-12-07']"
   ]
  },
  {
   "cell_type": "code",
   "execution_count": 69,
   "metadata": {},
   "outputs": [],
   "source": [
    "writer = pd.ExcelWriter('out/revenue_by_days.xlsx')\n",
    "for app in ['android','ios']:\n",
    "    for ref in ['notref','ref']:\n",
    "        df = df_payments[(df_payments['app'] == app) & (df_payments['ref'] == ref)]\n",
    "        df_installs = df_installs_all[(df_installs_all['app'] == app) & (df_installs_all['ref'] == ref)]\n",
    "        df_installs_2 = df_installs.groupby('created week')['users'].sum()\n",
    "        m_revenue = df.pivot_table(index='registration week', columns='weeks from reg', values='revenue in cents', aggfunc=sum).fillna(0).applymap(float)\n",
    "        m_revenue.columns = ['week_1','week_2','week_3','week_4']\n",
    "        m_revenue_normed = m_revenue.divide(daily_metrics['users'], axis='index')\n",
    "        daily_metrics = pd.concat([m_revenue, df_installs_2], join='outer', axis = 1)\n",
    "        # daily_metrics.to_csv('out_' + ref + '_' + app + '.csv')\n",
    "        daily_metrics.to_excel(writer,'revenue' + ref+'_'+app)\n",
    "        m_revenue_normed.to_excel(writer,'revenue_on_regs' + ref+'_'+app)\n",
    "        daily_metrics.columns = ['week_1','week_2','week_3','week_4','users']\n",
    "        \n",
    "        vars()['m_revenue_',ref,'_',app] = m_revenue\n",
    "        vars()['m_revenue_normed',ref,'_',app] = m_revenue_normed\n",
    "        vars()['daily_metrics',ref,'_',app] = daily_metrics\n",
    "        \n",
    "        m_revenue.groupby(m_revenue.index).sum().plot(kind='bar', rot=45, stacked=True, grid = True, figsize = (25,16), fontsize = 20)\n",
    "        plt.legend(loc='center left', bbox_to_anchor=(1, 0.5))\n",
    "        plt.savefig('revenue_'+ref+'_'+app+'.png')\n",
    "        \n",
    "        m_revenue_normed.groupby(m_revenue_normed.index).sum().plot(kind='bar', rot=45, stacked=True, grid = True, figsize = (25,16), fontsize = 20).legend(loc='center left', bbox_to_anchor=(1, 0.5));\n",
    "        plt.legend(loc='center left', bbox_to_anchor=(1, 0.5))\n",
    "        plt.savefig('revenue_normed_'+ref+'_'+app+'.png')\n",
    "        \n",
    "writer.save()"
   ]
  },
  {
   "cell_type": "code",
   "execution_count": null,
   "metadata": {},
   "outputs": [],
   "source": []
  },
  {
   "cell_type": "code",
   "execution_count": null,
   "metadata": {},
   "outputs": [],
   "source": []
  },
  {
   "cell_type": "code",
   "execution_count": null,
   "metadata": {},
   "outputs": [],
   "source": []
  },
  {
   "cell_type": "code",
   "execution_count": null,
   "metadata": {},
   "outputs": [],
   "source": []
  },
  {
   "cell_type": "code",
   "execution_count": null,
   "metadata": {},
   "outputs": [],
   "source": []
  },
  {
   "cell_type": "code",
   "execution_count": null,
   "metadata": {},
   "outputs": [],
   "source": []
  },
  {
   "cell_type": "code",
   "execution_count": null,
   "metadata": {},
   "outputs": [],
   "source": []
  },
  {
   "cell_type": "code",
   "execution_count": null,
   "metadata": {},
   "outputs": [],
   "source": []
  },
  {
   "cell_type": "code",
   "execution_count": null,
   "metadata": {},
   "outputs": [],
   "source": []
  },
  {
   "cell_type": "code",
   "execution_count": null,
   "metadata": {},
   "outputs": [],
   "source": []
  },
  {
   "cell_type": "code",
   "execution_count": null,
   "metadata": {},
   "outputs": [],
   "source": []
  }
 ],
 "metadata": {
  "kernelspec": {
   "display_name": "Python 3",
   "language": "python",
   "name": "python3"
  },
  "language_info": {
   "codemirror_mode": {
    "name": "ipython",
    "version": 3
   },
   "file_extension": ".py",
   "mimetype": "text/x-python",
   "name": "python",
   "nbconvert_exporter": "python",
   "pygments_lexer": "ipython3",
   "version": "3.6.4"
  }
 },
 "nbformat": 4,
 "nbformat_minor": 2
}
