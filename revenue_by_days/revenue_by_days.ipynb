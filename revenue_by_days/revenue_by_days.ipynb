{
 "cells": [
  {
   "cell_type": "code",
   "execution_count": 1,
   "metadata": {},
   "outputs": [],
   "source": [
    "import pandas as pd\n",
    "import numpy as np\n",
    "from datetime import datetime\n",
    "from datetime import timedelta"
   ]
  },
  {
   "cell_type": "code",
   "execution_count": 2,
   "metadata": {},
   "outputs": [],
   "source": [
    "df_payments_notref_android = pd.read_csv(r'data/180321_notref_android.csv')\n",
    "df_payments_ref_android = pd.read_csv(r'data/180321_ref_android.csv')\n",
    "df_payments_notref_ios= pd.read_csv(r'data/180321_notref_ios.csv')\n",
    "df_payments_ref_ios = pd.read_csv(r'data/180321_ref_ios.csv')"
   ]
  },
  {
   "cell_type": "code",
   "execution_count": 3,
   "metadata": {},
   "outputs": [],
   "source": [
    "df_payments_notref_android['ref'] = 'notref'\n",
    "df_payments_ref_android['ref'] = 'ref'\n",
    "df_payments_notref_ios['ref'] = 'notref'\n",
    "df_payments_ref_ios['ref'] = 'ref'\n",
    "\n",
    "df_payments_notref_android['app'] = 'android'\n",
    "df_payments_ref_android['app'] = 'android'\n",
    "df_payments_notref_ios['app'] = 'ios'\n",
    "df_payments_ref_ios['app'] = 'ios'\n",
    "\n",
    "df_payments = df_payments_notref_android.append(df_payments_ref_android).append(df_payments_notref_ios).append(df_payments_ref_ios)"
   ]
  },
  {
   "cell_type": "code",
   "execution_count": 4,
   "metadata": {},
   "outputs": [],
   "source": [
    "# https://portraits.core.tf/goto/1023ade78fbeb792c6e9e45b91c2a294\n",
    "df_installs_all = pd.read_csv(r'data/180321_installs.csv',thousands=',')\n",
    "df_installs_all.columns = ['created per day','ref','app','users']\n",
    "df_installs_all['created per day'] = df_installs_all['created per day'].map(lambda x: x[:10])\n",
    "dict_app = {'first_app:topfacemobappandroid': 'android','first_app:topfacemobappios':'ios'}\n",
    "dict_ref = {'referral:0': 'notref','referral:1':'ref'}\n",
    "df_installs_all['app'] = df_installs_all['app'].map(dict_app)\n",
    "df_installs_all['ref'] = df_installs_all['ref'].map(dict_ref)"
   ]
  },
  {
   "cell_type": "code",
   "execution_count": 5,
   "metadata": {},
   "outputs": [],
   "source": [
    "df_payments['days from payment'] = df_payments['payment date'].map(lambda x: datetime.strptime(x[:10], \"%Y-%m-%d\")) - df_payments['registration date'].map(lambda x: datetime.strptime(x[:10], \"%Y-%m-%d\"))\n",
    "df_payments['days from payment'] = df_payments['days from payment'].map(lambda x: x.days)\n",
    "df_payments['registration day'] = df_payments['registration date'].map(lambda x: x[:10])\n",
    "df_payments = df_payments[df_payments['days from payment'] <= 7]"
   ]
  },
  {
   "cell_type": "code",
   "execution_count": 6,
   "metadata": {},
   "outputs": [],
   "source": [
    "writer = pd.ExcelWriter('out/revenue_by_days.xlsx')\n",
    "for app in ['android','ios']:\n",
    "    for ref in ['notref','ref']:\n",
    "        df = df_payments[(df_payments['app'] == app) & (df_payments['ref'] == ref)]\n",
    "        df_installs = df_installs_all[(df_installs_all['app'] == app) & (df_installs_all['ref'] == ref)]\n",
    "        df_installs_2 = df_installs[['users']]\n",
    "        df_installs_2.index = df_installs['created per day']\n",
    "        m = df.pivot_table(index='registration day', columns='days from payment', values='revenue in cents', aggfunc=sum).fillna(0).applymap(float)\n",
    "        daily_metrics = pd.concat([m,df_installs_2], join='outer', axis = 1)\n",
    "        # daily_metrics.to_csv('out_' + ref + '_' + app + '.csv')\n",
    "        daily_metrics.to_excel(writer,ref+'_'+app)\n",
    "writer.save()"
   ]
  },
  {
   "cell_type": "code",
   "execution_count": null,
   "metadata": {},
   "outputs": [],
   "source": []
  },
  {
   "cell_type": "code",
   "execution_count": null,
   "metadata": {},
   "outputs": [],
   "source": []
  },
  {
   "cell_type": "code",
   "execution_count": null,
   "metadata": {},
   "outputs": [],
   "source": []
  },
  {
   "cell_type": "code",
   "execution_count": null,
   "metadata": {},
   "outputs": [],
   "source": []
  },
  {
   "cell_type": "code",
   "execution_count": null,
   "metadata": {},
   "outputs": [],
   "source": []
  },
  {
   "cell_type": "code",
   "execution_count": null,
   "metadata": {},
   "outputs": [],
   "source": []
  },
  {
   "cell_type": "code",
   "execution_count": null,
   "metadata": {},
   "outputs": [],
   "source": []
  },
  {
   "cell_type": "code",
   "execution_count": null,
   "metadata": {},
   "outputs": [],
   "source": []
  },
  {
   "cell_type": "code",
   "execution_count": null,
   "metadata": {},
   "outputs": [],
   "source": []
  },
  {
   "cell_type": "code",
   "execution_count": null,
   "metadata": {},
   "outputs": [],
   "source": []
  },
  {
   "cell_type": "code",
   "execution_count": null,
   "metadata": {},
   "outputs": [],
   "source": []
  }
 ],
 "metadata": {
  "kernelspec": {
   "display_name": "Python 3",
   "language": "python",
   "name": "python3"
  },
  "language_info": {
   "codemirror_mode": {
    "name": "ipython",
    "version": 3
   },
   "file_extension": ".py",
   "mimetype": "text/x-python",
   "name": "python",
   "nbconvert_exporter": "python",
   "pygments_lexer": "ipython3",
   "version": "3.6.4"
  }
 },
 "nbformat": 4,
 "nbformat_minor": 2
}
