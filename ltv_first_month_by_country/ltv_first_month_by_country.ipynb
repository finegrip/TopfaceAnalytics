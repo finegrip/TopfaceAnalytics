{
 "cells": [
  {
   "cell_type": "code",
   "execution_count": 1,
   "metadata": {},
   "outputs": [],
   "source": [
    "import numpy as np\n",
    "import pandas as pd\n",
    "import re\n",
    "from datetime import datetime\n",
    "from datetime import timedelta\n",
    "import warnings\n",
    "warnings.filterwarnings('ignore')"
   ]
  },
  {
   "cell_type": "code",
   "execution_count": null,
   "metadata": {},
   "outputs": [],
   "source": [
    "border_install_date = '2018-03-01'\n",
    "apps = ['android','ios']\n",
    "refs = ['notref','ref']\n",
    "dict_app = {'first_app:topfacemobappandroid': 'android','first_app:topfacemobappios':'ios','first_app:standalonetf':'st',\n",
    "            'first_app:topface AND platform:vk' : 'vk', 'first_app:topface AND platform:ok': 'ok','first_app:topface AND platform:fb': 'fb'}"
   ]
  },
  {
   "cell_type": "code",
   "execution_count": 2,
   "metadata": {},
   "outputs": [],
   "source": [
    "### Load retention days and installs\n",
    "# https://portraits.core.tf/app/kibana#/visualize/create?type=histogram&indexPattern=portraits&_g=(refreshInterval:(display:Off,pause:!f,value:0),time:(from:now-15m,mode:quick,to:now))&_a=(filters:!(),linked:!f,query:(query_string:(analyze_wildcard:!t,query:'created:%5B%222017-11-30T21:00:00%22%20TO%20%222018-02-28T20:59:59%22%5D%20AND%20referral:1')),uiState:(spy:(mode:(fill:!f,name:table))),vis:(aggs:!((id:'1',params:(),schema:metric,type:count),(id:'2',params:(customInterval:'2h',extended_bounds:(),field:created,interval:d,min_doc_count:1),schema:segment,type:date_histogram),(id:'3',params:(filters:!(('$$hashKey':'object:820',input:(query:(query_string:(analyze_wildcard:!t,query:'first_app:topfacemobappandroid'))),label:''),('$$hashKey':'object:830',input:(query:(query_string:(analyze_wildcard:!t,query:'first_app:topfacemobappios')))))),schema:group,type:filters),(id:'4',params:(field:country,order:desc,orderBy:'1',row:!t,size:200),schema:split,type:terms)),listeners:(),params:(addLegend:!t,addTimeMarker:!f,addTooltip:!t,defaultYExtents:!f,mode:stacked,scale:linear,setYExtents:!f,shareYAxis:!t,times:!(),yAxis:()),title:'New%20Visualization',type:histogram))\n",
    "df_installs_all_notref = pd.read_csv(r'./data/100405_installs_notref.csv',thousands=',', header = 1, names=['registration date','app','country','users'])\n",
    "df_installs_all_ref = pd.read_csv(r'./data/100405_installs_ref.csv',thousands=',', header = 1, names=['registration date','app','country','users'])\n",
    "df_installs_all_notref['ref'] = 'notref'\n",
    "df_installs_all_ref['ref'] = 'ref'\n",
    "df_installs_all = pd.concat([df_installs_all_notref, df_installs_all_ref])\n",
    "df_installs_all['app'] = df_installs_all['app'].map(dict_app)\n",
    "df_installs_all['registration date'] = df_installs_all['registration date'].map(lambda x: datetime.strptime(x, \"%Y-%m-%d %H:%M:%S\"))\n",
    "df_installs_all['registration month'] = df_installs_all['registration date'].map(lambda x: x.strftime('%Y-%m'))"
   ]
  },
  {
   "cell_type": "code",
   "execution_count": 3,
   "metadata": {},
   "outputs": [],
   "source": [
    "### Load payments\n",
    "for ref in refs:\n",
    "    for app in apps:\n",
    "        df = pd.read_csv(\"_\".join(['./data/180405',ref,app,'payments.csv']))\n",
    "        df['app'] = app\n",
    "        df['ref'] = ref\n",
    "        df = df[df['registration date'] < border_install_date]\n",
    "        df['payment date'] = df['payment date'].map(lambda x: datetime.strptime(x, \"%Y-%m-%d %H:%M:%S\"))\n",
    "        df['registration date'] = df['registration date'].map(lambda x: datetime.strptime(x, \"%Y-%m-%d %H:%M:%S\"))  \n",
    "        df['payment day'] = df['payment date'].map(lambda x: x.strftime('%Y-%m-%d'))\n",
    "        df['registration day'] = df['registration date'].map(lambda x: x.strftime('%Y-%m-%d'))\n",
    "        df['registration month'] = df['registration date'].map(lambda x: x.strftime('%Y-%m'))\n",
    "        df['time from registration'] = df['payment date'] - df['registration date']\n",
    "        df['days from registration'] = df['time from registration'].map(lambda x: x.days)\n",
    "        if 'df_payments_all' in vars():\n",
    "            df_payments_all = df_payments_all.append(df)\n",
    "        else:\n",
    "            df_payments_all = df"
   ]
  },
  {
   "cell_type": "code",
   "execution_count": 4,
   "metadata": {},
   "outputs": [],
   "source": [
    "df_payments_all = df_payments_all[df_payments_all['days from registration'] < 30]"
   ]
  },
  {
   "cell_type": "code",
   "execution_count": 8,
   "metadata": {},
   "outputs": [],
   "source": [
    "for ref in refs:\n",
    "    for app in apps:\n",
    "        df_installs = df_installs_all[(df_installs_all['app'] == app) & (df_installs_all['ref'] == ref)]\n",
    "        df_payments = df_payments_all[(df_payments_all['app'] == app) & (df_payments_all['ref'] == ref)]\n",
    "        m_installs = df_installs.pivot_table(index='country', columns='registration month', values='users', aggfunc=sum).fillna(0).applymap(float)\n",
    "        m_payments = df_payments.pivot_table(index='country', columns='registration month', values='revenue in cents', aggfunc=sum).fillna(0).applymap(float)\n",
    "        vars()['installs_payments'+'_'+ref+'_'+app] = pd.concat([m_installs, m_payments], axis = 1).fillna(0)"
   ]
  },
  {
   "cell_type": "code",
   "execution_count": 10,
   "metadata": {},
   "outputs": [],
   "source": [
    "m_installs_payments_all = pd.concat([installs_payments_notref_android,installs_payments_ref_android,installs_payments_notref_ios,installs_payments_ref_ios], axis = 1)\n",
    "writer = pd.ExcelWriter('./out/installs_payments_all.xlsx')\n",
    "m_installs_payments_all.to_excel(writer,'installs_payments_all')\n",
    "writer.save()"
   ]
  },
  {
   "cell_type": "code",
   "execution_count": null,
   "metadata": {},
   "outputs": [],
   "source": []
  },
  {
   "cell_type": "code",
   "execution_count": null,
   "metadata": {},
   "outputs": [],
   "source": []
  },
  {
   "cell_type": "code",
   "execution_count": null,
   "metadata": {},
   "outputs": [],
   "source": []
  },
  {
   "cell_type": "code",
   "execution_count": null,
   "metadata": {},
   "outputs": [],
   "source": []
  },
  {
   "cell_type": "code",
   "execution_count": null,
   "metadata": {},
   "outputs": [],
   "source": []
  },
  {
   "cell_type": "code",
   "execution_count": null,
   "metadata": {},
   "outputs": [],
   "source": []
  },
  {
   "cell_type": "code",
   "execution_count": null,
   "metadata": {},
   "outputs": [],
   "source": []
  },
  {
   "cell_type": "code",
   "execution_count": null,
   "metadata": {},
   "outputs": [],
   "source": []
  },
  {
   "cell_type": "code",
   "execution_count": null,
   "metadata": {},
   "outputs": [],
   "source": []
  }
 ],
 "metadata": {
  "kernelspec": {
   "display_name": "Python 3",
   "language": "python",
   "name": "python3"
  },
  "language_info": {
   "codemirror_mode": {
    "name": "ipython",
    "version": 3
   },
   "file_extension": ".py",
   "mimetype": "text/x-python",
   "name": "python",
   "nbconvert_exporter": "python",
   "pygments_lexer": "ipython3",
   "version": "3.6.4"
  }
 },
 "nbformat": 4,
 "nbformat_minor": 2
}
