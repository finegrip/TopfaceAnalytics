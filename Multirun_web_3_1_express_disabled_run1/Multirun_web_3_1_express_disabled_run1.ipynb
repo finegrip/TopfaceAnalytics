{
 "cells": [
  {
   "cell_type": "code",
   "execution_count": 21,
   "metadata": {},
   "outputs": [],
   "source": [
    "import numpy as np\n",
    "import pandas as pd\n",
    "import re\n",
    "from datetime import datetime\n",
    "from datetime import timedelta\n",
    "import warnings\n",
    "warnings.filterwarnings('ignore')"
   ]
  },
  {
   "cell_type": "code",
   "execution_count": 22,
   "metadata": {},
   "outputs": [],
   "source": [
    "# key revenue metrix\n",
    "# https://portraits.core.tf/app/kibana#/visualize/create?type=histogram&indexPattern=portraits&_g=(refreshInterval:(display:Off,pause:!f,value:0),time:(from:now-15m,mode:quick,to:now))&_a=(filters:!(),linked:!f,query:(query_string:(analyze_wildcard:!t,query:'*')),uiState:(spy:(mode:(fill:!f,name:table))),vis:(aggs:!((id:'1',params:(),schema:metric,type:count),(id:'4',params:(filters:!(('$$hashKey':'object:2155',input:(query:(query_string:(analyze_wildcard:!t,query:'*'))),label:''),('$$hashKey':'object:2165',input:(query:(query_string:(analyze_wildcard:!t,query:'_exists_:revenue_in_cents')))))),schema:group,type:filters),(id:'2',params:(filters:!(('$$hashKey':'object:392',input:(query:(query_string:(analyze_wildcard:!t,query:'tags:Multirun_web_3_1_express_disabled_run1__TG1'))),label:''),('$$hashKey':'object:401',input:(query:(query_string:(analyze_wildcard:!t,query:'tags:Multirun_web_3_1_express_disabled_run1__CG1')))),('$$hashKey':'object:406',input:(query:(query_string:(analyze_wildcard:!t,query:'tags:Multirun_web_3_1_express_disabled_run1__CG2')))))),schema:segment,type:filters),(id:'3',params:(field:revenue_in_cents),schema:metric,type:sum)),listeners:(),params:(addLegend:!t,addTimeMarker:!f,addTooltip:!t,defaultYExtents:!f,mode:stacked,scale:linear,setYExtents:!f,shareYAxis:!t,times:!(),yAxis:()),title:'New%20Visualization',type:histogram))\n",
    "# R21 / R14\n",
    "# https://portraits.core.tf/app/kibana#/visualize/create?type=histogram&indexPattern=portraits&_g=(refreshInterval:(display:Off,pause:!f,value:0),time:(from:now-15m,mode:quick,to:now))&_a=(filters:!(),linked:!f,query:(query_string:(analyze_wildcard:!t,query:'*')),uiState:(spy:(mode:(fill:!f,name:table))),vis:(aggs:!((id:'1',params:(),schema:metric,type:count),(id:'4',params:(filters:!(('$$hashKey':'object:2155',input:(query:(query_string:(analyze_wildcard:!t,query:'*'))),label:''),('$$hashKey':'object:2165',input:(query:(query_string:(analyze_wildcard:!t,query:'retention_days:14')))),('$$hashKey':'object:2330',input:(query:(query_string:(analyze_wildcard:!t,query:'retention_days:21')))))),schema:group,type:filters),(id:'2',params:(filters:!(('$$hashKey':'object:392',input:(query:(query_string:(analyze_wildcard:!t,query:'tags:Multirun_web_3_1_express_disabled_run1__TG1'))),label:''),('$$hashKey':'object:401',input:(query:(query_string:(analyze_wildcard:!t,query:'tags:Multirun_web_3_1_express_disabled_run1__CG1')))),('$$hashKey':'object:406',input:(query:(query_string:(analyze_wildcard:!t,query:'tags:Multirun_web_3_1_express_disabled_run1__CG2')))))),schema:segment,type:filters)),listeners:(),params:(addLegend:!t,addTimeMarker:!f,addTooltip:!t,defaultYExtents:!f,mode:stacked,scale:linear,setYExtents:!f,shareYAxis:!t,times:!(),yAxis:()),title:'New%20Visualization',type:histogram))\n"
   ]
  },
  {
   "cell_type": "code",
   "execution_count": 23,
   "metadata": {},
   "outputs": [],
   "source": [
    "### Load payments\n",
    "df_payments_TG1 = pd.read_csv(r'./Multirun_web_3_1_express_disabled_run1__TG1.csv')\n",
    "df_payments_CG1 = pd.read_csv(r'./Multirun_web_3_1_express_disabled_run1__CG1.csv')\n",
    "df_payments_CG2 = pd.read_csv(r'./Multirun_web_3_1_express_disabled_run1__CG2.csv')\n",
    "df_payments_TG1['group'] = 'TG1'\n",
    "df_payments_CG1['group'] = 'CG1'\n",
    "df_payments_CG2['group'] = 'CG2'\n",
    "df_payments = pd.concat([df_payments_TG1, df_payments_CG1, df_payments_CG2])\n",
    "\n",
    "# df = df[df['registration date'] < border_install_date]\n",
    "df_payments['payment date'] = df_payments['payment date'].map(lambda x: datetime.strptime(x, \"%Y-%m-%d %H:%M:%S\"))\n",
    "df_payments['registration date'] = df_payments['registration date'].map(lambda x: datetime.strptime(x, \"%Y-%m-%d %H:%M:%S\"))  \n",
    "df_payments['payment day'] = df_payments['payment date'].map(lambda x: x.strftime('%Y-%m-%d'))\n",
    "df_payments['registration day'] = df_payments['registration date'].map(lambda x: x.strftime('%Y-%m-%d'))\n",
    "df_payments['registration month'] = df_payments['registration date'].map(lambda x: x.strftime('%Y-%m'))\n",
    "df_payments['time from registration'] = df_payments['payment date'] - df_payments['registration date']\n",
    "df_payments['days from registration'] = df_payments['time from registration'].map(lambda x: x.days)"
   ]
  },
  {
   "cell_type": "code",
   "execution_count": 24,
   "metadata": {},
   "outputs": [
    {
     "data": {
      "text/html": [
       "<div>\n",
       "<style scoped>\n",
       "    .dataframe tbody tr th:only-of-type {\n",
       "        vertical-align: middle;\n",
       "    }\n",
       "\n",
       "    .dataframe tbody tr th {\n",
       "        vertical-align: top;\n",
       "    }\n",
       "\n",
       "    .dataframe thead th {\n",
       "        text-align: right;\n",
       "    }\n",
       "</style>\n",
       "<table border=\"1\" class=\"dataframe\">\n",
       "  <thead>\n",
       "    <tr style=\"text-align: right;\">\n",
       "      <th></th>\n",
       "      <th>ref ID</th>\n",
       "      <th>partner ID</th>\n",
       "      <th>ref date</th>\n",
       "      <th>user ID</th>\n",
       "      <th>registration date</th>\n",
       "      <th>payment ID</th>\n",
       "      <th>payment date</th>\n",
       "      <th>payment amount</th>\n",
       "      <th>revenue in cents</th>\n",
       "      <th>payment service ID</th>\n",
       "      <th>...</th>\n",
       "      <th>place</th>\n",
       "      <th>country</th>\n",
       "      <th>last app</th>\n",
       "      <th>Product Id</th>\n",
       "      <th>group</th>\n",
       "      <th>payment day</th>\n",
       "      <th>registration day</th>\n",
       "      <th>registration month</th>\n",
       "      <th>time from registration</th>\n",
       "      <th>days from registration</th>\n",
       "    </tr>\n",
       "  </thead>\n",
       "  <tbody>\n",
       "    <tr>\n",
       "      <th>0</th>\n",
       "      <td>597.0</td>\n",
       "      <td>12.0</td>\n",
       "      <td>2018-03-21 21:58:51</td>\n",
       "      <td>117328667</td>\n",
       "      <td>2018-03-21 21:58:51</td>\n",
       "      <td>1</td>\n",
       "      <td>2018-03-21 22:08:50</td>\n",
       "      <td>100</td>\n",
       "      <td>97</td>\n",
       "      <td>19</td>\n",
       "      <td>...</td>\n",
       "      <td>coins_popup_navigation</td>\n",
       "      <td>US</td>\n",
       "      <td>standalonetf</td>\n",
       "      <td>coin.one</td>\n",
       "      <td>TG1</td>\n",
       "      <td>2018-03-21</td>\n",
       "      <td>2018-03-21</td>\n",
       "      <td>2018-03</td>\n",
       "      <td>0 days 00:09:59</td>\n",
       "      <td>0</td>\n",
       "    </tr>\n",
       "    <tr>\n",
       "      <th>1</th>\n",
       "      <td>NaN</td>\n",
       "      <td>NaN</td>\n",
       "      <td>NaN</td>\n",
       "      <td>117191687</td>\n",
       "      <td>2018-03-17 17:01:17</td>\n",
       "      <td>5</td>\n",
       "      <td>2018-03-18 06:07:28</td>\n",
       "      <td>17</td>\n",
       "      <td>8</td>\n",
       "      <td>57</td>\n",
       "      <td>...</td>\n",
       "      <td>superPopupFromBlockExpressMessages</td>\n",
       "      <td>KZ</td>\n",
       "      <td>topface</td>\n",
       "      <td>premium.1day_PUincrease</td>\n",
       "      <td>TG1</td>\n",
       "      <td>2018-03-18</td>\n",
       "      <td>2018-03-17</td>\n",
       "      <td>2018-03</td>\n",
       "      <td>0 days 13:06:11</td>\n",
       "      <td>0</td>\n",
       "    </tr>\n",
       "    <tr>\n",
       "      <th>2</th>\n",
       "      <td>597.0</td>\n",
       "      <td>12.0</td>\n",
       "      <td>2018-03-17 20:53:16</td>\n",
       "      <td>117195121</td>\n",
       "      <td>2018-03-17 20:53:16</td>\n",
       "      <td>8</td>\n",
       "      <td>2018-03-20 10:24:12</td>\n",
       "      <td>203</td>\n",
       "      <td>142</td>\n",
       "      <td>147</td>\n",
       "      <td>...</td>\n",
       "      <td>FromMenu</td>\n",
       "      <td>UG</td>\n",
       "      <td>topfacemobappios</td>\n",
       "      <td>com.topface.topface.premium.week.1</td>\n",
       "      <td>TG1</td>\n",
       "      <td>2018-03-20</td>\n",
       "      <td>2018-03-17</td>\n",
       "      <td>2018-03</td>\n",
       "      <td>2 days 13:30:56</td>\n",
       "      <td>2</td>\n",
       "    </tr>\n",
       "    <tr>\n",
       "      <th>3</th>\n",
       "      <td>597.0</td>\n",
       "      <td>12.0</td>\n",
       "      <td>2018-03-12 02:28:47</td>\n",
       "      <td>117095065</td>\n",
       "      <td>2018-03-12 02:28:46</td>\n",
       "      <td>5</td>\n",
       "      <td>2018-03-12 12:04:39</td>\n",
       "      <td>308</td>\n",
       "      <td>172</td>\n",
       "      <td>19</td>\n",
       "      <td>...</td>\n",
       "      <td>sympathy_access</td>\n",
       "      <td>RU</td>\n",
       "      <td>standalonetf</td>\n",
       "      <td>NaN</td>\n",
       "      <td>TG1</td>\n",
       "      <td>2018-03-12</td>\n",
       "      <td>2018-03-12</td>\n",
       "      <td>2018-03</td>\n",
       "      <td>0 days 09:35:53</td>\n",
       "      <td>0</td>\n",
       "    </tr>\n",
       "    <tr>\n",
       "      <th>4</th>\n",
       "      <td>NaN</td>\n",
       "      <td>NaN</td>\n",
       "      <td>NaN</td>\n",
       "      <td>117092298</td>\n",
       "      <td>2018-03-11 21:03:53</td>\n",
       "      <td>23</td>\n",
       "      <td>2018-03-23 09:05:58</td>\n",
       "      <td>100</td>\n",
       "      <td>97</td>\n",
       "      <td>19</td>\n",
       "      <td>...</td>\n",
       "      <td>coins_popup_navigation</td>\n",
       "      <td>BY</td>\n",
       "      <td>standalonetf</td>\n",
       "      <td>coin.one</td>\n",
       "      <td>TG1</td>\n",
       "      <td>2018-03-23</td>\n",
       "      <td>2018-03-11</td>\n",
       "      <td>2018-03</td>\n",
       "      <td>11 days 12:02:05</td>\n",
       "      <td>11</td>\n",
       "    </tr>\n",
       "  </tbody>\n",
       "</table>\n",
       "<p>5 rows × 22 columns</p>\n",
       "</div>"
      ],
      "text/plain": [
       "   ref ID  partner ID             ref date    user ID   registration date  \\\n",
       "0   597.0        12.0  2018-03-21 21:58:51  117328667 2018-03-21 21:58:51   \n",
       "1     NaN         NaN                  NaN  117191687 2018-03-17 17:01:17   \n",
       "2   597.0        12.0  2018-03-17 20:53:16  117195121 2018-03-17 20:53:16   \n",
       "3   597.0        12.0  2018-03-12 02:28:47  117095065 2018-03-12 02:28:46   \n",
       "4     NaN         NaN                  NaN  117092298 2018-03-11 21:03:53   \n",
       "\n",
       "   payment ID        payment date  payment amount  revenue in cents  \\\n",
       "0           1 2018-03-21 22:08:50             100                97   \n",
       "1           5 2018-03-18 06:07:28              17                 8   \n",
       "2           8 2018-03-20 10:24:12             203               142   \n",
       "3           5 2018-03-12 12:04:39             308               172   \n",
       "4          23 2018-03-23 09:05:58             100                97   \n",
       "\n",
       "   payment service ID          ...            \\\n",
       "0                  19          ...             \n",
       "1                  57          ...             \n",
       "2                 147          ...             \n",
       "3                  19          ...             \n",
       "4                  19          ...             \n",
       "\n",
       "                                place country          last app  \\\n",
       "0              coins_popup_navigation      US      standalonetf   \n",
       "1  superPopupFromBlockExpressMessages      KZ           topface   \n",
       "2                            FromMenu      UG  topfacemobappios   \n",
       "3                     sympathy_access      RU      standalonetf   \n",
       "4              coins_popup_navigation      BY      standalonetf   \n",
       "\n",
       "                           Product Id group payment day registration day  \\\n",
       "0                            coin.one   TG1  2018-03-21       2018-03-21   \n",
       "1             premium.1day_PUincrease   TG1  2018-03-18       2018-03-17   \n",
       "2  com.topface.topface.premium.week.1   TG1  2018-03-20       2018-03-17   \n",
       "3                                 NaN   TG1  2018-03-12       2018-03-12   \n",
       "4                            coin.one   TG1  2018-03-23       2018-03-11   \n",
       "\n",
       "  registration month time from registration days from registration  \n",
       "0            2018-03        0 days 00:09:59                      0  \n",
       "1            2018-03        0 days 13:06:11                      0  \n",
       "2            2018-03        2 days 13:30:56                      2  \n",
       "3            2018-03        0 days 09:35:53                      0  \n",
       "4            2018-03       11 days 12:02:05                     11  \n",
       "\n",
       "[5 rows x 22 columns]"
      ]
     },
     "execution_count": 24,
     "metadata": {},
     "output_type": "execute_result"
    }
   ],
   "source": [
    "df_payments.head()"
   ]
  },
  {
   "cell_type": "code",
   "execution_count": 25,
   "metadata": {},
   "outputs": [],
   "source": [
    "# 19 - Покупка монеток - PaymentServiceBuyCoins\n",
    "# 57 - Покупка Premium-статуса - PaymentServicePremium\n",
    "# 67 - Плата за покупку лайков - PaymentServiceLikes\n",
    "# 68 - Покупка премиума за бабло - PaymentServiceBuyPremium\n",
    "# 77 - Плата за покупку бомбы сообщений - Topface.Product.Payment.PaymentServiceBombMessage\n",
    "# 127 - Автоматическая покупка монет - Topface.Subscription.PaymentWall.AutoRechargeCoinsPaymentService\n",
    "# 146 - Покупка подписки на монеты - PaymentServiceCoinSubscription\n",
    "# 147 - Покупка подписки на премиум - PaymentServicePremiumSubscription"
   ]
  },
  {
   "cell_type": "code",
   "execution_count": 26,
   "metadata": {},
   "outputs": [],
   "source": [
    "df = df_payments[df_payments['days from registration'] >= 14]"
   ]
  },
  {
   "cell_type": "code",
   "execution_count": 27,
   "metadata": {},
   "outputs": [
    {
     "data": {
      "text/plain": [
       "group\n",
       "CG1    7470\n",
       "CG2    5191\n",
       "TG1    6649\n",
       "Name: revenue in cents, dtype: int64"
      ]
     },
     "execution_count": 27,
     "metadata": {},
     "output_type": "execute_result"
    }
   ],
   "source": [
    "df.groupby(['group'])['revenue in cents'].sum()"
   ]
  },
  {
   "cell_type": "code",
   "execution_count": 28,
   "metadata": {},
   "outputs": [
    {
     "data": {
      "text/plain": [
       "group\n",
       "CG1    2875\n",
       "CG2    4263\n",
       "TG1    4649\n",
       "Name: revenue in cents, dtype: int64"
      ]
     },
     "execution_count": 28,
     "metadata": {},
     "output_type": "execute_result"
    }
   ],
   "source": [
    "df[df['payment service ID'].isin([57, 68, 147])].groupby(['group'])['revenue in cents'].sum()"
   ]
  },
  {
   "cell_type": "code",
   "execution_count": 29,
   "metadata": {},
   "outputs": [
    {
     "data": {
      "text/plain": [
       "group\n",
       "CG1     534\n",
       "CG2     668\n",
       "TG1    3766\n",
       "Name: revenue in cents, dtype: int64"
      ]
     },
     "execution_count": 29,
     "metadata": {},
     "output_type": "execute_result"
    }
   ],
   "source": [
    "df[df['payment service ID'].isin([57, 147])].groupby(['group'])['revenue in cents'].sum()"
   ]
  },
  {
   "cell_type": "code",
   "execution_count": 30,
   "metadata": {},
   "outputs": [
    {
     "data": {
      "text/plain": [
       "group\n",
       "CG1    2875\n",
       "CG2    3814\n",
       "TG1    4003\n",
       "Name: revenue in cents, dtype: int64"
      ]
     },
     "execution_count": 30,
     "metadata": {},
     "output_type": "execute_result"
    }
   ],
   "source": [
    "df[df['Product Id'].fillna('none').map(lambda x: bool(re.search('prem',x)))].groupby(['group'])['revenue in cents'].sum()"
   ]
  },
  {
   "cell_type": "code",
   "execution_count": 31,
   "metadata": {},
   "outputs": [
    {
     "data": {
      "text/plain": [
       "group\n",
       "CG1     296\n",
       "CG2    2793\n",
       "Name: revenue in cents, dtype: int64"
      ]
     },
     "execution_count": 31,
     "metadata": {},
     "output_type": "execute_result"
    }
   ],
   "source": [
    "df[df['place'].isin(['super_express_message','superPopupFromBlockExpressMessages'])].groupby(['group'])['revenue in cents'].sum()"
   ]
  },
  {
   "cell_type": "code",
   "execution_count": 34,
   "metadata": {},
   "outputs": [],
   "source": [
    "# 68 - Покупка премиума за бабло - PaymentServiceBuyPremium\n",
    "# df[(df['payment service ID'] == 68) & (df['group'] == 'TG1')][['Product Id','payment amount', 'payment date', 'payment provider','payment service ID', 'place', 'platform','registration date', 'revenue in cents', 'user ID', 'payment day','registration day']]"
   ]
  },
  {
   "cell_type": "code",
   "execution_count": null,
   "metadata": {},
   "outputs": [],
   "source": []
  },
  {
   "cell_type": "code",
   "execution_count": null,
   "metadata": {},
   "outputs": [],
   "source": []
  },
  {
   "cell_type": "code",
   "execution_count": null,
   "metadata": {},
   "outputs": [],
   "source": []
  },
  {
   "cell_type": "code",
   "execution_count": null,
   "metadata": {},
   "outputs": [],
   "source": []
  },
  {
   "cell_type": "code",
   "execution_count": null,
   "metadata": {},
   "outputs": [],
   "source": []
  },
  {
   "cell_type": "code",
   "execution_count": null,
   "metadata": {},
   "outputs": [],
   "source": []
  },
  {
   "cell_type": "code",
   "execution_count": null,
   "metadata": {},
   "outputs": [],
   "source": []
  },
  {
   "cell_type": "code",
   "execution_count": null,
   "metadata": {},
   "outputs": [],
   "source": []
  }
 ],
 "metadata": {
  "kernelspec": {
   "display_name": "Python 3",
   "language": "python",
   "name": "python3"
  },
  "language_info": {
   "codemirror_mode": {
    "name": "ipython",
    "version": 3
   },
   "file_extension": ".py",
   "mimetype": "text/x-python",
   "name": "python",
   "nbconvert_exporter": "python",
   "pygments_lexer": "ipython3",
   "version": "3.6.4"
  }
 },
 "nbformat": 4,
 "nbformat_minor": 2
}
