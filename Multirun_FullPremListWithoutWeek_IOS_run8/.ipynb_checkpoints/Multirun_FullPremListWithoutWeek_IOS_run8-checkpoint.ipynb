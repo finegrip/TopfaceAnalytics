{
 "cells": [
  {
   "cell_type": "code",
   "execution_count": 1,
   "metadata": {},
   "outputs": [],
   "source": [
    "import pandas as pd\n",
    "import numpy as np\n",
    "import re\n",
    "from datetime import datetime\n",
    "from datetime import timedelta"
   ]
  },
  {
   "cell_type": "code",
   "execution_count": 2,
   "metadata": {},
   "outputs": [],
   "source": [
    "def qunique_len_sum(df_payments_TG, df_payments_CG1, df_payments_CG2):\n",
    "    a = len(set(df_payments_TG['user ID'])), len(set(df_payments_CG1['user ID'])), len(set(df_payments_CG2['user ID'])), \\\n",
    "    len(df_payments_TG['user ID']), len(df_payments_CG1['user ID']), len(df_payments_CG2['user ID']), \\\n",
    "    df_payments_TG['revenue in cents'].sum(), df_payments_CG1['revenue in cents'].sum(), df_payments_CG2['revenue in cents'].sum()\n",
    "    return(a)"
   ]
  },
  {
   "cell_type": "code",
   "execution_count": 3,
   "metadata": {},
   "outputs": [],
   "source": [
    "# df_installs = pd.read_csv('Multirun_VIPDescription_Android_run2_inst.csv')\n",
    "df_payments_TG = pd.read_csv('Multirun_FullPremListWithoutWeek_IOS_run8__TG.csv')\n",
    "df_payments_CG1 = pd.read_csv('Multirun_FullPremListWithoutWeek_IOS_run8__CG1.csv')\n",
    "df_payments_CG2 = pd.read_csv('Multirun_FullPremListWithoutWeek_IOS_run8__CG2.csv')"
   ]
  },
  {
   "cell_type": "code",
   "execution_count": 4,
   "metadata": {},
   "outputs": [],
   "source": [
    "df_payments_TG['test group'] = 'TG'\n",
    "df_payments_CG1['test group'] = 'CG1'\n",
    "df_payments_CG2['test group'] = 'CG2'\n",
    "df_payments = pd.concat([df_payments_TG,df_payments_CG1,df_payments_CG2])"
   ]
  },
  {
   "cell_type": "code",
   "execution_count": 5,
   "metadata": {},
   "outputs": [],
   "source": [
    "df_payments['Product Id'] = df_payments['Product Id'].fillna('null')\n",
    "df_payments['is_prem'] = df_payments['Product Id'].map(lambda x: bool(bool(re.search('prem',x)) + bool(re.search('vip',x)) + bool(re.search('trial',x))))\n",
    "df_payments['is_trial'] = df_payments['Product Id'].map(lambda x:  bool(re.search('trial',x)) )\n",
    "df_payments['is_coin'] = df_payments['Product Id'].map(lambda x:  bool(re.search('coin',x)) )\n",
    "df_payments['is_like'] = df_payments['Product Id'].map(lambda x:  bool(re.search('like',x)) )\n",
    "df_payments['is_bomb'] = df_payments['Product Id'].map(lambda x:  bool(re.search('bomb',x)) )"
   ]
  },
  {
   "cell_type": "code",
   "execution_count": 6,
   "metadata": {},
   "outputs": [
    {
     "data": {
      "text/html": [
       "<div>\n",
       "<style scoped>\n",
       "    .dataframe tbody tr th:only-of-type {\n",
       "        vertical-align: middle;\n",
       "    }\n",
       "\n",
       "    .dataframe tbody tr th {\n",
       "        vertical-align: top;\n",
       "    }\n",
       "\n",
       "    .dataframe thead th {\n",
       "        text-align: right;\n",
       "    }\n",
       "</style>\n",
       "<table border=\"1\" class=\"dataframe\">\n",
       "  <thead>\n",
       "    <tr style=\"text-align: right;\">\n",
       "      <th></th>\n",
       "      <th>ref ID</th>\n",
       "      <th>partner ID</th>\n",
       "      <th>ref date</th>\n",
       "      <th>user ID</th>\n",
       "      <th>registration date</th>\n",
       "      <th>payment ID</th>\n",
       "      <th>payment date</th>\n",
       "      <th>payment amount</th>\n",
       "      <th>revenue in cents</th>\n",
       "      <th>payment service ID</th>\n",
       "      <th>...</th>\n",
       "      <th>place</th>\n",
       "      <th>country</th>\n",
       "      <th>last app</th>\n",
       "      <th>Product Id</th>\n",
       "      <th>test group</th>\n",
       "      <th>is_prem</th>\n",
       "      <th>is_trial</th>\n",
       "      <th>is_coin</th>\n",
       "      <th>is_like</th>\n",
       "      <th>is_bomb</th>\n",
       "    </tr>\n",
       "  </thead>\n",
       "  <tbody>\n",
       "    <tr>\n",
       "      <th>0</th>\n",
       "      <td>9465.0</td>\n",
       "      <td>63.0</td>\n",
       "      <td>2018-03-18 18:27:36</td>\n",
       "      <td>117213844</td>\n",
       "      <td>2018-03-18 18:27:32</td>\n",
       "      <td>1</td>\n",
       "      <td>2018-03-18 23:32:59</td>\n",
       "      <td>510</td>\n",
       "      <td>91</td>\n",
       "      <td>68</td>\n",
       "      <td>...</td>\n",
       "      <td>none</td>\n",
       "      <td>RS</td>\n",
       "      <td>topfacemobappandroid</td>\n",
       "      <td>com.topface.topface.buy.sms.vip.day.10</td>\n",
       "      <td>TG</td>\n",
       "      <td>True</td>\n",
       "      <td>False</td>\n",
       "      <td>False</td>\n",
       "      <td>False</td>\n",
       "      <td>False</td>\n",
       "    </tr>\n",
       "    <tr>\n",
       "      <th>1</th>\n",
       "      <td>9389.0</td>\n",
       "      <td>63.0</td>\n",
       "      <td>2018-03-23 20:04:56</td>\n",
       "      <td>117401009</td>\n",
       "      <td>2018-03-23 20:04:54</td>\n",
       "      <td>12</td>\n",
       "      <td>2018-03-26 04:28:07</td>\n",
       "      <td>100</td>\n",
       "      <td>97</td>\n",
       "      <td>19</td>\n",
       "      <td>...</td>\n",
       "      <td>autorefill</td>\n",
       "      <td>KW</td>\n",
       "      <td>topfacemobappandroid</td>\n",
       "      <td>pn.coins.6.1</td>\n",
       "      <td>TG</td>\n",
       "      <td>False</td>\n",
       "      <td>False</td>\n",
       "      <td>True</td>\n",
       "      <td>False</td>\n",
       "      <td>False</td>\n",
       "    </tr>\n",
       "    <tr>\n",
       "      <th>2</th>\n",
       "      <td>5611.0</td>\n",
       "      <td>45.0</td>\n",
       "      <td>2018-03-18 09:03:32</td>\n",
       "      <td>117203917</td>\n",
       "      <td>2018-03-18 09:03:31</td>\n",
       "      <td>11</td>\n",
       "      <td>2018-03-20 08:37:12</td>\n",
       "      <td>78</td>\n",
       "      <td>54</td>\n",
       "      <td>19</td>\n",
       "      <td>...</td>\n",
       "      <td>EmptyLikes</td>\n",
       "      <td>RU</td>\n",
       "      <td>topfacemobappandroid</td>\n",
       "      <td>com.topface.topface.coins.6.1</td>\n",
       "      <td>TG</td>\n",
       "      <td>False</td>\n",
       "      <td>False</td>\n",
       "      <td>True</td>\n",
       "      <td>False</td>\n",
       "      <td>False</td>\n",
       "    </tr>\n",
       "    <tr>\n",
       "      <th>3</th>\n",
       "      <td>NaN</td>\n",
       "      <td>NaN</td>\n",
       "      <td>NaN</td>\n",
       "      <td>117309374</td>\n",
       "      <td>2018-03-21 14:04:05</td>\n",
       "      <td>10</td>\n",
       "      <td>2018-03-26 14:30:27</td>\n",
       "      <td>100</td>\n",
       "      <td>97</td>\n",
       "      <td>19</td>\n",
       "      <td>...</td>\n",
       "      <td>autorefill</td>\n",
       "      <td>RU</td>\n",
       "      <td>topfacemobappandroid</td>\n",
       "      <td>pn.coins.6.1</td>\n",
       "      <td>TG</td>\n",
       "      <td>False</td>\n",
       "      <td>False</td>\n",
       "      <td>True</td>\n",
       "      <td>False</td>\n",
       "      <td>False</td>\n",
       "    </tr>\n",
       "    <tr>\n",
       "      <th>4</th>\n",
       "      <td>9385.0</td>\n",
       "      <td>63.0</td>\n",
       "      <td>2018-03-20 16:39:28</td>\n",
       "      <td>117267717</td>\n",
       "      <td>2018-03-20 16:39:27</td>\n",
       "      <td>1</td>\n",
       "      <td>2018-03-25 17:47:19</td>\n",
       "      <td>510</td>\n",
       "      <td>209</td>\n",
       "      <td>68</td>\n",
       "      <td>...</td>\n",
       "      <td>none</td>\n",
       "      <td>CZ</td>\n",
       "      <td>topfacemobappandroid</td>\n",
       "      <td>com.topface.topface.buy.sms.vip.day.10</td>\n",
       "      <td>TG</td>\n",
       "      <td>True</td>\n",
       "      <td>False</td>\n",
       "      <td>False</td>\n",
       "      <td>False</td>\n",
       "      <td>False</td>\n",
       "    </tr>\n",
       "  </tbody>\n",
       "</table>\n",
       "<p>5 rows × 22 columns</p>\n",
       "</div>"
      ],
      "text/plain": [
       "   ref ID  partner ID             ref date    user ID    registration date  \\\n",
       "0  9465.0        63.0  2018-03-18 18:27:36  117213844  2018-03-18 18:27:32   \n",
       "1  9389.0        63.0  2018-03-23 20:04:56  117401009  2018-03-23 20:04:54   \n",
       "2  5611.0        45.0  2018-03-18 09:03:32  117203917  2018-03-18 09:03:31   \n",
       "3     NaN         NaN                  NaN  117309374  2018-03-21 14:04:05   \n",
       "4  9385.0        63.0  2018-03-20 16:39:28  117267717  2018-03-20 16:39:27   \n",
       "\n",
       "   payment ID         payment date  payment amount  revenue in cents  \\\n",
       "0           1  2018-03-18 23:32:59             510                91   \n",
       "1          12  2018-03-26 04:28:07             100                97   \n",
       "2          11  2018-03-20 08:37:12              78                54   \n",
       "3          10  2018-03-26 14:30:27             100                97   \n",
       "4           1  2018-03-25 17:47:19             510               209   \n",
       "\n",
       "   payment service ID   ...          place country              last app  \\\n",
       "0                  68   ...           none      RS  topfacemobappandroid   \n",
       "1                  19   ...     autorefill      KW  topfacemobappandroid   \n",
       "2                  19   ...     EmptyLikes      RU  topfacemobappandroid   \n",
       "3                  19   ...     autorefill      RU  topfacemobappandroid   \n",
       "4                  68   ...           none      CZ  topfacemobappandroid   \n",
       "\n",
       "                               Product Id test group is_prem is_trial  \\\n",
       "0  com.topface.topface.buy.sms.vip.day.10         TG    True    False   \n",
       "1                            pn.coins.6.1         TG   False    False   \n",
       "2           com.topface.topface.coins.6.1         TG   False    False   \n",
       "3                            pn.coins.6.1         TG   False    False   \n",
       "4  com.topface.topface.buy.sms.vip.day.10         TG    True    False   \n",
       "\n",
       "   is_coin  is_like  is_bomb  \n",
       "0    False    False    False  \n",
       "1     True    False    False  \n",
       "2     True    False    False  \n",
       "3     True    False    False  \n",
       "4    False    False    False  \n",
       "\n",
       "[5 rows x 22 columns]"
      ]
     },
     "execution_count": 6,
     "metadata": {},
     "output_type": "execute_result"
    }
   ],
   "source": [
    "df_payments.head()"
   ]
  },
  {
   "cell_type": "code",
   "execution_count": 7,
   "metadata": {},
   "outputs": [],
   "source": [
    "# df_payments = df_payments[df_payments['ref ID'].isna()]\n",
    "# df_payments = df_payments[~df_payments['ref ID'].isna()]\n",
    "\n",
    "# df_payments = df_payments[df_payments['registration date'] < '2018-03-24']"
   ]
  },
  {
   "cell_type": "code",
   "execution_count": 8,
   "metadata": {},
   "outputs": [],
   "source": [
    "df_payments_TG = df_payments[df_payments['test group'] == 'TG']\n",
    "df_payments_CG1 = df_payments[df_payments['test group'] == 'CG1']\n",
    "df_payments_CG2 = df_payments[df_payments['test group'] == 'CG2']\n",
    "\n",
    "revenue_all = qunique_len_sum(df_payments_TG, df_payments_CG1, df_payments_CG2)"
   ]
  },
  {
   "cell_type": "code",
   "execution_count": 9,
   "metadata": {},
   "outputs": [],
   "source": [
    "df_payments_TG = df_payments[(df_payments['test group'] == 'TG') & (df_payments['is_prem'] == True)]\n",
    "df_payments_CG1 = df_payments[(df_payments['test group'] == 'CG1') & (df_payments['is_prem'] == True)]\n",
    "df_payments_CG2 = df_payments[(df_payments['test group'] == 'CG2') & (df_payments['is_prem'] == True)]\n",
    "\n",
    "revenue_prem = qunique_len_sum(df_payments_TG, df_payments_CG1, df_payments_CG2)"
   ]
  },
  {
   "cell_type": "code",
   "execution_count": 10,
   "metadata": {},
   "outputs": [],
   "source": [
    "df_payments_TG = df_payments[(df_payments['test group'] == 'TG') & (df_payments['is_trial'] == True)]\n",
    "df_payments_CG1 = df_payments[(df_payments['test group'] == 'CG1') & (df_payments['is_trial'] == True)]\n",
    "df_payments_CG2 = df_payments[(df_payments['test group'] == 'CG2') & (df_payments['is_trial'] == True)]\n",
    "\n",
    "revenue_trial = qunique_len_sum(df_payments_TG, df_payments_CG1, df_payments_CG2)"
   ]
  },
  {
   "cell_type": "code",
   "execution_count": 11,
   "metadata": {},
   "outputs": [],
   "source": [
    "df_payments_TG = df_payments[(df_payments['test group'] == 'TG') & (df_payments['is_coin'] == True)]\n",
    "df_payments_CG1 = df_payments[(df_payments['test group'] == 'CG1') & (df_payments['is_coin'] == True)]\n",
    "df_payments_CG2 = df_payments[(df_payments['test group'] == 'CG2') & (df_payments['is_coin'] == True)]\n",
    "\n",
    "revenue_coin = qunique_len_sum(df_payments_TG, df_payments_CG1, df_payments_CG2)"
   ]
  },
  {
   "cell_type": "code",
   "execution_count": 12,
   "metadata": {},
   "outputs": [],
   "source": [
    "df_payments_TG = df_payments[(df_payments['test group'] == 'TG') & (df_payments['is_like'] == True)]\n",
    "df_payments_CG1 = df_payments[(df_payments['test group'] == 'CG1') & (df_payments['is_like'] == True)]\n",
    "df_payments_CG2 = df_payments[(df_payments['test group'] == 'CG2') & (df_payments['is_like'] == True)]\n",
    "\n",
    "revenue_like = qunique_len_sum(df_payments_TG, df_payments_CG1, df_payments_CG2)"
   ]
  },
  {
   "cell_type": "code",
   "execution_count": 13,
   "metadata": {},
   "outputs": [],
   "source": [
    "df_payments_TG = df_payments[(df_payments['test group'] == 'TG') & (df_payments['is_bomb'] == True)]\n",
    "df_payments_CG1 = df_payments[(df_payments['test group'] == 'CG1') & (df_payments['is_bomb'] == True)]\n",
    "df_payments_CG2 = df_payments[(df_payments['test group'] == 'CG2') & (df_payments['is_bomb'] == True)]\n",
    "\n",
    "revenue_bomb = qunique_len_sum(df_payments_TG, df_payments_CG1, df_payments_CG2)"
   ]
  },
  {
   "cell_type": "code",
   "execution_count": 14,
   "metadata": {},
   "outputs": [
    {
     "data": {
      "text/plain": [
       "((453, 430, 464, 714, 689, 712, 308730, 290525, 320685),\n",
       " (369, 352, 382, 379, 358, 388, 234063, 212343, 248617),\n",
       " (156, 120, 149, 157, 123, 151, 138684, 108038, 132075),\n",
       " (119, 130, 132, 225, 248, 244, 56032, 60761, 56695),\n",
       " (64, 60, 53, 77, 74, 69, 16136, 16275, 14404),\n",
       " (1, 2, 8, 1, 4, 9, 69, 680, 770))"
      ]
     },
     "execution_count": 14,
     "metadata": {},
     "output_type": "execute_result"
    }
   ],
   "source": [
    "revenue_all, revenue_prem, revenue_trial, revenue_coin, revenue_like, revenue_bomb"
   ]
  },
  {
   "cell_type": "code",
   "execution_count": null,
   "metadata": {},
   "outputs": [],
   "source": []
  },
  {
   "cell_type": "code",
   "execution_count": null,
   "metadata": {},
   "outputs": [],
   "source": []
  }
 ],
 "metadata": {
  "kernelspec": {
   "display_name": "Python 3",
   "language": "python",
   "name": "python3"
  },
  "language_info": {
   "codemirror_mode": {
    "name": "ipython",
    "version": 3
   },
   "file_extension": ".py",
   "mimetype": "text/x-python",
   "name": "python",
   "nbconvert_exporter": "python",
   "pygments_lexer": "ipython3",
   "version": "3.6.4"
  }
 },
 "nbformat": 4,
 "nbformat_minor": 2
}
