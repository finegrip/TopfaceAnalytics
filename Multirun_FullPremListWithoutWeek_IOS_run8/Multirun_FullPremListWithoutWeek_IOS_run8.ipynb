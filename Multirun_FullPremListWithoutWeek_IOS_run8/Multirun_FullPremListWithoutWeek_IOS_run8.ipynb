{
 "cells": [
  {
   "cell_type": "code",
   "execution_count": 1,
   "metadata": {},
   "outputs": [],
   "source": [
    "import pandas as pd\n",
    "import numpy as np\n",
    "import re\n",
    "from datetime import datetime\n",
    "from datetime import timedelta"
   ]
  },
  {
   "cell_type": "code",
   "execution_count": 2,
   "metadata": {},
   "outputs": [],
   "source": [
    "def qunique_len_sum(df_payments_TG, df_payments_CG1, df_payments_CG2):\n",
    "    a = len(set(df_payments_TG['user ID'])), len(set(df_payments_CG1['user ID'])), len(set(df_payments_CG2['user ID'])), \\\n",
    "    len(df_payments_TG['user ID']), len(df_payments_CG1['user ID']), len(df_payments_CG2['user ID']), \\\n",
    "    df_payments_TG['revenue in cents'].sum(), df_payments_CG1['revenue in cents'].sum(), df_payments_CG2['revenue in cents'].sum()\n",
    "    return(a)"
   ]
  },
  {
   "cell_type": "code",
   "execution_count": 3,
   "metadata": {},
   "outputs": [],
   "source": [
    "# df_installs = pd.read_csv('Multirun_VIPDescription_Android_run2_inst.csv')\n",
    "\n",
    "# df_payments_TG = pd.read_csv('Multirun_FullPremListWithoutWeek_IOS_run8__TG.csv')\n",
    "# df_payments_CG1 = pd.read_csv('Multirun_FullPremListWithoutWeek_IOS_run8__CG1.csv')\n",
    "# df_payments_CG2 = pd.read_csv('Multirun_FullPremListWithoutWeek_IOS_run8__CG2.csv')\n",
    "\n",
    "df_payments_TG = pd.read_csv('Multirun_FullPremListWithoutWeek_IOS_run8__TG_ref.csv')\n",
    "df_payments_CG1 = pd.read_csv('Multirun_FullPremListWithoutWeek_IOS_run8__CG1_ref.csv')\n",
    "df_payments_CG2 = pd.read_csv('Multirun_FullPremListWithoutWeek_IOS_run8__CG2_ref.csv')"
   ]
  },
  {
   "cell_type": "code",
   "execution_count": 4,
   "metadata": {},
   "outputs": [],
   "source": [
    "df_payments_TG['test group'] = 'TG'\n",
    "df_payments_CG1['test group'] = 'CG1'\n",
    "df_payments_CG2['test group'] = 'CG2'\n",
    "df_payments = pd.concat([df_payments_TG,df_payments_CG1,df_payments_CG2])"
   ]
  },
  {
   "cell_type": "code",
   "execution_count": 5,
   "metadata": {},
   "outputs": [],
   "source": [
    "df_payments['Product Id'] = df_payments['Product Id'].fillna('null')\n",
    "df_payments['is_prem'] = df_payments['Product Id'].map(lambda x: bool(bool(re.search('prem',x)) + bool(re.search('vip',x)) + bool(re.search('trial',x))))\n",
    "df_payments['is_trial'] = df_payments['Product Id'].map(lambda x:  bool(re.search('trial',x)) )\n",
    "df_payments['is_coin'] = df_payments['Product Id'].map(lambda x:  bool(re.search('coin',x)) )\n",
    "df_payments['is_like'] = df_payments['Product Id'].map(lambda x:  bool(re.search('like',x)) )\n",
    "df_payments['is_bomb'] = df_payments['Product Id'].map(lambda x:  bool(re.search('bomb',x)) )"
   ]
  },
  {
   "cell_type": "code",
   "execution_count": 6,
   "metadata": {},
   "outputs": [
    {
     "data": {
      "text/html": [
       "<div>\n",
       "<style scoped>\n",
       "    .dataframe tbody tr th:only-of-type {\n",
       "        vertical-align: middle;\n",
       "    }\n",
       "\n",
       "    .dataframe tbody tr th {\n",
       "        vertical-align: top;\n",
       "    }\n",
       "\n",
       "    .dataframe thead th {\n",
       "        text-align: right;\n",
       "    }\n",
       "</style>\n",
       "<table border=\"1\" class=\"dataframe\">\n",
       "  <thead>\n",
       "    <tr style=\"text-align: right;\">\n",
       "      <th></th>\n",
       "      <th>ref ID</th>\n",
       "      <th>partner ID</th>\n",
       "      <th>ref date</th>\n",
       "      <th>user ID</th>\n",
       "      <th>registration date</th>\n",
       "      <th>payment ID</th>\n",
       "      <th>payment date</th>\n",
       "      <th>payment amount</th>\n",
       "      <th>revenue in cents</th>\n",
       "      <th>payment service ID</th>\n",
       "      <th>...</th>\n",
       "      <th>place</th>\n",
       "      <th>country</th>\n",
       "      <th>last app</th>\n",
       "      <th>Product Id</th>\n",
       "      <th>test group</th>\n",
       "      <th>is_prem</th>\n",
       "      <th>is_trial</th>\n",
       "      <th>is_coin</th>\n",
       "      <th>is_like</th>\n",
       "      <th>is_bomb</th>\n",
       "    </tr>\n",
       "  </thead>\n",
       "  <tbody>\n",
       "    <tr>\n",
       "      <th>0</th>\n",
       "      <td>9584</td>\n",
       "      <td>33</td>\n",
       "      <td>2018-04-22 14:36:28</td>\n",
       "      <td>118081361</td>\n",
       "      <td>2018-04-22 14:36:27</td>\n",
       "      <td>6</td>\n",
       "      <td>2018-04-23 09:46:45</td>\n",
       "      <td>1400</td>\n",
       "      <td>979</td>\n",
       "      <td>19</td>\n",
       "      <td>...</td>\n",
       "      <td>FromLikes</td>\n",
       "      <td>GB</td>\n",
       "      <td>topfacemobappios</td>\n",
       "      <td>com.topface.topface.buy.coins.100</td>\n",
       "      <td>TG</td>\n",
       "      <td>False</td>\n",
       "      <td>False</td>\n",
       "      <td>True</td>\n",
       "      <td>False</td>\n",
       "      <td>False</td>\n",
       "    </tr>\n",
       "    <tr>\n",
       "      <th>1</th>\n",
       "      <td>9467</td>\n",
       "      <td>63</td>\n",
       "      <td>2018-05-04 06:35:50</td>\n",
       "      <td>118363700</td>\n",
       "      <td>2018-05-04 06:35:49</td>\n",
       "      <td>2</td>\n",
       "      <td>2018-05-04 07:10:04</td>\n",
       "      <td>99</td>\n",
       "      <td>69</td>\n",
       "      <td>19</td>\n",
       "      <td>...</td>\n",
       "      <td>FromLikes</td>\n",
       "      <td>CR</td>\n",
       "      <td>topfacemobappios</td>\n",
       "      <td>com.topface.topface.buy.coins.6</td>\n",
       "      <td>TG</td>\n",
       "      <td>False</td>\n",
       "      <td>False</td>\n",
       "      <td>True</td>\n",
       "      <td>False</td>\n",
       "      <td>False</td>\n",
       "    </tr>\n",
       "    <tr>\n",
       "      <th>2</th>\n",
       "      <td>9501</td>\n",
       "      <td>63</td>\n",
       "      <td>2018-04-20 06:08:48</td>\n",
       "      <td>118033145</td>\n",
       "      <td>2018-04-20 06:08:47</td>\n",
       "      <td>1</td>\n",
       "      <td>2018-04-20 06:09:07</td>\n",
       "      <td>1511</td>\n",
       "      <td>1057</td>\n",
       "      <td>147</td>\n",
       "      <td>...</td>\n",
       "      <td>NaN</td>\n",
       "      <td>IN</td>\n",
       "      <td>topfacemobappios</td>\n",
       "      <td>com.topface.topface.premium.trial.month.1299</td>\n",
       "      <td>TG</td>\n",
       "      <td>True</td>\n",
       "      <td>True</td>\n",
       "      <td>False</td>\n",
       "      <td>False</td>\n",
       "      <td>False</td>\n",
       "    </tr>\n",
       "    <tr>\n",
       "      <th>3</th>\n",
       "      <td>9501</td>\n",
       "      <td>63</td>\n",
       "      <td>2018-04-30 13:50:59</td>\n",
       "      <td>118257705</td>\n",
       "      <td>2018-04-30 13:50:58</td>\n",
       "      <td>11</td>\n",
       "      <td>2018-05-03 20:15:12</td>\n",
       "      <td>118</td>\n",
       "      <td>82</td>\n",
       "      <td>19</td>\n",
       "      <td>...</td>\n",
       "      <td>FromLikes</td>\n",
       "      <td>IN</td>\n",
       "      <td>topfacemobappios</td>\n",
       "      <td>com.topface.topface.buy.coins.6</td>\n",
       "      <td>TG</td>\n",
       "      <td>False</td>\n",
       "      <td>False</td>\n",
       "      <td>True</td>\n",
       "      <td>False</td>\n",
       "      <td>False</td>\n",
       "    </tr>\n",
       "    <tr>\n",
       "      <th>4</th>\n",
       "      <td>9835</td>\n",
       "      <td>63</td>\n",
       "      <td>2018-04-19 18:29:03</td>\n",
       "      <td>118024196</td>\n",
       "      <td>2018-04-19 18:29:02</td>\n",
       "      <td>3</td>\n",
       "      <td>2018-04-19 18:43:56</td>\n",
       "      <td>1083</td>\n",
       "      <td>758</td>\n",
       "      <td>147</td>\n",
       "      <td>...</td>\n",
       "      <td>FromGuests</td>\n",
       "      <td>CN</td>\n",
       "      <td>topfacemobappios</td>\n",
       "      <td>com.topface.topface.premium.month.1</td>\n",
       "      <td>TG</td>\n",
       "      <td>True</td>\n",
       "      <td>False</td>\n",
       "      <td>False</td>\n",
       "      <td>False</td>\n",
       "      <td>False</td>\n",
       "    </tr>\n",
       "  </tbody>\n",
       "</table>\n",
       "<p>5 rows × 22 columns</p>\n",
       "</div>"
      ],
      "text/plain": [
       "   ref ID  partner ID             ref date    user ID    registration date  \\\n",
       "0    9584          33  2018-04-22 14:36:28  118081361  2018-04-22 14:36:27   \n",
       "1    9467          63  2018-05-04 06:35:50  118363700  2018-05-04 06:35:49   \n",
       "2    9501          63  2018-04-20 06:08:48  118033145  2018-04-20 06:08:47   \n",
       "3    9501          63  2018-04-30 13:50:59  118257705  2018-04-30 13:50:58   \n",
       "4    9835          63  2018-04-19 18:29:03  118024196  2018-04-19 18:29:02   \n",
       "\n",
       "   payment ID         payment date  payment amount  revenue in cents  \\\n",
       "0           6  2018-04-23 09:46:45            1400               979   \n",
       "1           2  2018-05-04 07:10:04              99                69   \n",
       "2           1  2018-04-20 06:09:07            1511              1057   \n",
       "3          11  2018-05-03 20:15:12             118                82   \n",
       "4           3  2018-04-19 18:43:56            1083               758   \n",
       "\n",
       "   payment service ID   ...          place country          last app  \\\n",
       "0                  19   ...      FromLikes      GB  topfacemobappios   \n",
       "1                  19   ...      FromLikes      CR  topfacemobappios   \n",
       "2                 147   ...            NaN      IN  topfacemobappios   \n",
       "3                  19   ...      FromLikes      IN  topfacemobappios   \n",
       "4                 147   ...     FromGuests      CN  topfacemobappios   \n",
       "\n",
       "                                     Product Id test group is_prem is_trial  \\\n",
       "0             com.topface.topface.buy.coins.100         TG   False    False   \n",
       "1               com.topface.topface.buy.coins.6         TG   False    False   \n",
       "2  com.topface.topface.premium.trial.month.1299         TG    True     True   \n",
       "3               com.topface.topface.buy.coins.6         TG   False    False   \n",
       "4           com.topface.topface.premium.month.1         TG    True    False   \n",
       "\n",
       "   is_coin  is_like  is_bomb  \n",
       "0     True    False    False  \n",
       "1     True    False    False  \n",
       "2    False    False    False  \n",
       "3     True    False    False  \n",
       "4    False    False    False  \n",
       "\n",
       "[5 rows x 22 columns]"
      ]
     },
     "execution_count": 6,
     "metadata": {},
     "output_type": "execute_result"
    }
   ],
   "source": [
    "df_payments.head()"
   ]
  },
  {
   "cell_type": "code",
   "execution_count": 7,
   "metadata": {},
   "outputs": [],
   "source": [
    "# df_payments = df_payments[df_payments['ref ID'].isna()]\n",
    "# df_payments = df_payments[~df_payments['ref ID'].isna()]\n",
    "\n",
    "# df_payments = df_payments[df_payments['registration date'] < '2018-03-24']"
   ]
  },
  {
   "cell_type": "code",
   "execution_count": 8,
   "metadata": {},
   "outputs": [],
   "source": [
    "df_payments_TG = df_payments[df_payments['test group'] == 'TG']\n",
    "df_payments_CG1 = df_payments[df_payments['test group'] == 'CG1']\n",
    "df_payments_CG2 = df_payments[df_payments['test group'] == 'CG2']\n",
    "\n",
    "revenue_all = qunique_len_sum(df_payments_TG, df_payments_CG1, df_payments_CG2)"
   ]
  },
  {
   "cell_type": "code",
   "execution_count": 9,
   "metadata": {},
   "outputs": [],
   "source": [
    "df_payments_TG = df_payments[(df_payments['test group'] == 'TG') & (df_payments['is_prem'] == True)]\n",
    "df_payments_CG1 = df_payments[(df_payments['test group'] == 'CG1') & (df_payments['is_prem'] == True)]\n",
    "df_payments_CG2 = df_payments[(df_payments['test group'] == 'CG2') & (df_payments['is_prem'] == True)]\n",
    "\n",
    "revenue_prem = qunique_len_sum(df_payments_TG, df_payments_CG1, df_payments_CG2)"
   ]
  },
  {
   "cell_type": "code",
   "execution_count": 10,
   "metadata": {},
   "outputs": [],
   "source": [
    "df_payments_TG = df_payments[(df_payments['test group'] == 'TG') & (df_payments['is_trial'] == True)]\n",
    "df_payments_CG1 = df_payments[(df_payments['test group'] == 'CG1') & (df_payments['is_trial'] == True)]\n",
    "df_payments_CG2 = df_payments[(df_payments['test group'] == 'CG2') & (df_payments['is_trial'] == True)]\n",
    "\n",
    "revenue_trial = qunique_len_sum(df_payments_TG, df_payments_CG1, df_payments_CG2)"
   ]
  },
  {
   "cell_type": "code",
   "execution_count": 11,
   "metadata": {},
   "outputs": [],
   "source": [
    "df_payments_TG = df_payments[(df_payments['test group'] == 'TG') & (df_payments['is_coin'] == True)]\n",
    "df_payments_CG1 = df_payments[(df_payments['test group'] == 'CG1') & (df_payments['is_coin'] == True)]\n",
    "df_payments_CG2 = df_payments[(df_payments['test group'] == 'CG2') & (df_payments['is_coin'] == True)]\n",
    "\n",
    "revenue_coin = qunique_len_sum(df_payments_TG, df_payments_CG1, df_payments_CG2)"
   ]
  },
  {
   "cell_type": "code",
   "execution_count": 12,
   "metadata": {},
   "outputs": [],
   "source": [
    "df_payments_TG = df_payments[(df_payments['test group'] == 'TG') & (df_payments['is_like'] == True)]\n",
    "df_payments_CG1 = df_payments[(df_payments['test group'] == 'CG1') & (df_payments['is_like'] == True)]\n",
    "df_payments_CG2 = df_payments[(df_payments['test group'] == 'CG2') & (df_payments['is_like'] == True)]\n",
    "\n",
    "revenue_like = qunique_len_sum(df_payments_TG, df_payments_CG1, df_payments_CG2)"
   ]
  },
  {
   "cell_type": "code",
   "execution_count": 13,
   "metadata": {},
   "outputs": [],
   "source": [
    "df_payments_TG = df_payments[(df_payments['test group'] == 'TG') & (df_payments['is_bomb'] == True)]\n",
    "df_payments_CG1 = df_payments[(df_payments['test group'] == 'CG1') & (df_payments['is_bomb'] == True)]\n",
    "df_payments_CG2 = df_payments[(df_payments['test group'] == 'CG2') & (df_payments['is_bomb'] == True)]\n",
    "\n",
    "revenue_bomb = qunique_len_sum(df_payments_TG, df_payments_CG1, df_payments_CG2)"
   ]
  },
  {
   "cell_type": "code",
   "execution_count": 14,
   "metadata": {},
   "outputs": [
    {
     "data": {
      "text/plain": [
       "((838, 1046, 1052, 1239, 1754, 1772, 638090, 557195, 582735),\n",
       " (529, 837, 852, 532, 1101, 1107, 477713, 415444, 435258),\n",
       " (192, 204, 263, 193, 277, 346, 188209, 162920, 205420),\n",
       " (323, 305, 329, 411, 367, 421, 90167, 75847, 89634),\n",
       " (238, 228, 203, 295, 282, 239, 69480, 65157, 55958),\n",
       " (0, 0, 0, 0, 0, 0, 0, 0, 0))"
      ]
     },
     "execution_count": 14,
     "metadata": {},
     "output_type": "execute_result"
    }
   ],
   "source": [
    "revenue_all, revenue_prem, revenue_trial, revenue_coin, revenue_like, revenue_bomb"
   ]
  },
  {
   "cell_type": "code",
   "execution_count": null,
   "metadata": {},
   "outputs": [],
   "source": []
  },
  {
   "cell_type": "code",
   "execution_count": null,
   "metadata": {},
   "outputs": [],
   "source": []
  }
 ],
 "metadata": {
  "kernelspec": {
   "display_name": "Python 3",
   "language": "python",
   "name": "python3"
  },
  "language_info": {
   "codemirror_mode": {
    "name": "ipython",
    "version": 3
   },
   "file_extension": ".py",
   "mimetype": "text/x-python",
   "name": "python",
   "nbconvert_exporter": "python",
   "pygments_lexer": "ipython3",
   "version": "3.6.4"
  }
 },
 "nbformat": 4,
 "nbformat_minor": 2
}
