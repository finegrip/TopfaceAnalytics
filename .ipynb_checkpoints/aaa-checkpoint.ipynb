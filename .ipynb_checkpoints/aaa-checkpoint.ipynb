{
 "cells": [
  {
   "cell_type": "code",
   "execution_count": 1,
   "metadata": {},
   "outputs": [],
   "source": [
    "import numpy as np\n",
    "import pandas as pd\n",
    "import re\n",
    "from datetime import datetime\n",
    "from datetime import timedelta\n",
    "import warnings\n",
    "warnings.filterwarnings('ignore')\n",
    "\n",
    "pd.options.display.max_rows = 100"
   ]
  },
  {
   "cell_type": "code",
   "execution_count": null,
   "metadata": {},
   "outputs": [],
   "source": [
    "d = df_retention_days_all.copy()\n",
    "d['registration month'] = d['created per day'].map(lambda x: x[:7])\n",
    "d[(d['created per day'] >= '2018-01-01') & (d['retention day'] == 'install')].groupby(['app', 'ref', 'registration month'])['users'].sum()"
   ]
  },
  {
   "cell_type": "code",
   "execution_count": 3,
   "metadata": {},
   "outputs": [],
   "source": [
    "payments_notref = pd.read_csv(r'C:\\Users\\user\\Downloads\\payments-1524822007.csv')\n",
    "payments_ref = pd.read_csv(r'C:\\Users\\user\\Downloads\\payments-1524822048.csv')\n",
    "\n",
    "border_install_date = '2018-04-01'\n",
    "\n",
    "payments_notref['ref'] = 'notref'\n",
    "payments_ref['ref'] = 'ref'\n",
    "df = pd.concat([payments_notref, payments_ref])\n",
    "df = df[df['registration date'] < border_install_date]\n",
    "df['payment date'] = df['payment date'].map(lambda x: datetime.strptime(x, \"%Y-%m-%d %H:%M:%S\"))\n",
    "df['registration date'] = df['registration date'].map(lambda x: datetime.strptime(x, \"%Y-%m-%d %H:%M:%S\"))  \n",
    "df['payment day'] = df['payment date'].map(lambda x: x.strftime('%Y-%m-%d'))\n",
    "df['registration day'] = df['registration date'].map(lambda x: x.strftime('%Y-%m-%d'))\n",
    "df['registration month'] = df['registration date'].map(lambda x: x.strftime('%Y-%m'))\n",
    "df['time from registration'] = df['payment date'] - df['registration date']\n",
    "df['days from registration'] = df['time from registration'].map(lambda x: x.days)"
   ]
  },
  {
   "cell_type": "code",
   "execution_count": 7,
   "metadata": {},
   "outputs": [
    {
     "data": {
      "text/plain": [
       "ref     registration month\n",
       "notref  2017-12                 11940\n",
       "        2018-01               1226693\n",
       "        2018-02               1211828\n",
       "        2018-03               1222273\n",
       "ref     2017-12                 51991\n",
       "        2018-01               2047059\n",
       "        2018-02               3332336\n",
       "        2018-03               2719334\n",
       "Name: revenue in cents, dtype: int64"
      ]
     },
     "execution_count": 7,
     "metadata": {},
     "output_type": "execute_result"
    }
   ],
   "source": [
    "df[(df['days from registration'] < 30)].groupby(['ref','registration month'])['revenue in cents'].sum()"
   ]
  },
  {
   "cell_type": "code",
   "execution_count": null,
   "metadata": {},
   "outputs": [],
   "source": [
    "df_payments_all[(df_payments_all['app'] == 'android') & (df_payments_all['ref'] == 'ref') & (df_payments_all['days from registration'] < 30)].groupby(['registration month'])['revenue in cents'].sum()"
   ]
  },
  {
   "cell_type": "code",
   "execution_count": null,
   "metadata": {},
   "outputs": [],
   "source": [
    "df1 = pd.read_csv('data/180316_android_ref_payments.csv')\n",
    "df2 = pd.read_csv('data/180425_android_ref_payments.csv')\n",
    "df1 = df1[df1['payment date'] < '2018-03-16']\n",
    "df2 = df2[df2['payment date'] >= '2018-03-16']\n",
    "df1 = df1[df1['registration date'] >= '2015-01-01']\n",
    "df2 = df2[df2['registration date'] >= '2015-01-01']\n",
    "\n",
    "df = pd.concat([df1, df2])\n",
    "df = pd.concat([payments_notref, payments_ref])\n",
    "df = df[df['registration date'] < border_install_date]\n",
    "df['payment date'] = df['payment date'].map(lambda x: datetime.strptime(x, \"%Y-%m-%d %H:%M:%S\"))\n",
    "df['registration date'] = df['registration date'].map(lambda x: datetime.strptime(x, \"%Y-%m-%d %H:%M:%S\"))  \n",
    "df['payment day'] = df['payment date'].map(lambda x: x.strftime('%Y-%m-%d'))\n",
    "df['registration day'] = df['registration date'].map(lambda x: x.strftime('%Y-%m-%d'))\n",
    "df['registration month'] = df['registration date'].map(lambda x: x.strftime('%Y-%m'))\n",
    "df['time from registration'] = df['payment date'] - df['registration date']\n",
    "df['days from registration'] = df['time from registration'].map(lambda x: x.days)"
   ]
  },
  {
   "cell_type": "code",
   "execution_count": null,
   "metadata": {},
   "outputs": [],
   "source": [
    "df[(df['ref'] == 'ref') & (df['days from registration'] < 30)].groupby(['registration month'])['revenue in cents'].sum()"
   ]
  },
  {
   "cell_type": "code",
   "execution_count": null,
   "metadata": {},
   "outputs": [],
   "source": []
  },
  {
   "cell_type": "code",
   "execution_count": 13,
   "metadata": {},
   "outputs": [],
   "source": [
    "df = pd.read_csv(r'C:\\Users\\user\\Desktop\\data\\180316_android_ref_payments.csv')"
   ]
  },
  {
   "cell_type": "code",
   "execution_count": 14,
   "metadata": {},
   "outputs": [
    {
     "data": {
      "text/plain": [
       "9102157"
      ]
     },
     "execution_count": 14,
     "metadata": {},
     "output_type": "execute_result"
    }
   ],
   "source": [
    "df[(df['payment date'] >= '2018-02-01') & (df['payment date'] < '2018-03-01')]['revenue in cents'].sum()"
   ]
  },
  {
   "cell_type": "code",
   "execution_count": null,
   "metadata": {},
   "outputs": [],
   "source": []
  },
  {
   "cell_type": "code",
   "execution_count": null,
   "metadata": {},
   "outputs": [],
   "source": [
    "notref android --- \n",
    "notref ios ---  \n",
    "notref st --- \n",
    "notref vk --- \n",
    "notref ok --- \n",
    "notref fb --- \n",
    "ref android --- \n",
    "ref ios --- \n",
    "ref st --- \n",
    "ref vk --- \n",
    "ref ok --- \n",
    "ref fb --- "
   ]
  },
  {
   "cell_type": "code",
   "execution_count": null,
   "metadata": {},
   "outputs": [],
   "source": []
  }
 ],
 "metadata": {
  "kernelspec": {
   "display_name": "Python 3",
   "language": "python",
   "name": "python3"
  },
  "language_info": {
   "codemirror_mode": {
    "name": "ipython",
    "version": 3
   },
   "file_extension": ".py",
   "mimetype": "text/x-python",
   "name": "python",
   "nbconvert_exporter": "python",
   "pygments_lexer": "ipython3",
   "version": "3.6.4"
  }
 },
 "nbformat": 4,
 "nbformat_minor": 2
}
